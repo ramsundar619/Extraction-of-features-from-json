{
  "nbformat": 4,
  "nbformat_minor": 0,
  "metadata": {
    "colab": {
      "name": "Extraction of features from json.ipynb",
      "provenance": [],
      "authorship_tag": "ABX9TyO/TtEVQ40mi0HtTu9yPKDZ",
      "include_colab_link": true
    },
    "kernelspec": {
      "name": "python3",
      "display_name": "Python 3"
    },
    "language_info": {
      "name": "python"
    }
  },
  "cells": [
    {
      "cell_type": "markdown",
      "metadata": {
        "id": "view-in-github",
        "colab_type": "text"
      },
      "source": [
        "<a href=\"https://colab.research.google.com/github/ramsundar619/Extraction-of-features-from-json/blob/main/Extraction_of_features_from_json.ipynb\" target=\"_parent\"><img src=\"https://colab.research.google.com/assets/colab-badge.svg\" alt=\"Open In Colab\"/></a>"
      ]
    },
    {
      "cell_type": "code",
      "metadata": {
        "colab": {
          "base_uri": "https://localhost:8080/"
        },
        "id": "wqrkKKXJbIRe",
        "outputId": "405af1d6-534c-43e4-924a-72f2187eebde"
      },
      "source": [
        "from google.colab import drive                                     #mounting the drive to acces the data stored in google drive\n",
        "drive.mount('/content/drive')"
      ],
      "execution_count": null,
      "outputs": [
        {
          "output_type": "stream",
          "name": "stdout",
          "text": [
            "Drive already mounted at /content/drive; to attempt to forcibly remount, call drive.mount(\"/content/drive\", force_remount=True).\n"
          ]
        }
      ]
    },
    {
      "cell_type": "code",
      "metadata": {
        "id": "fiCMyTEid88n"
      },
      "source": [
        "import pandas as pd\n",
        "data_df = pd.read_csv('/content/drive/MyDrive/Acies/Analysis_Chart_Configs.csv')"
      ],
      "execution_count": null,
      "outputs": []
    },
    {
      "cell_type": "code",
      "metadata": {
        "colab": {
          "base_uri": "https://localhost:8080/",
          "height": 206
        },
        "id": "UxzR7CJleU5c",
        "outputId": "d20be5e2-41ea-418c-f993-a559a461cc8b"
      },
      "source": [
        "data_df.head()"
      ],
      "execution_count": null,
      "outputs": [
        {
          "output_type": "execute_result",
          "data": {
            "text/html": [
              "<div>\n",
              "<style scoped>\n",
              "    .dataframe tbody tr th:only-of-type {\n",
              "        vertical-align: middle;\n",
              "    }\n",
              "\n",
              "    .dataframe tbody tr th {\n",
              "        vertical-align: top;\n",
              "    }\n",
              "\n",
              "    .dataframe thead th {\n",
              "        text-align: right;\n",
              "    }\n",
              "</style>\n",
              "<table border=\"1\" class=\"dataframe\">\n",
              "  <thead>\n",
              "    <tr style=\"text-align: right;\">\n",
              "      <th></th>\n",
              "      <th>Chart name</th>\n",
              "      <th>Chart config</th>\n",
              "      <th>Description</th>\n",
              "    </tr>\n",
              "  </thead>\n",
              "  <tbody>\n",
              "    <tr>\n",
              "      <th>0</th>\n",
              "      <td>Vertical Bar Chart</td>\n",
              "      <td>{\"chart_name\":\"Vertical Bar\",\"table\":\"Trade_Du...</td>\n",
              "      <td>Plot Isin against Quantity</td>\n",
              "    </tr>\n",
              "    <tr>\n",
              "      <th>1</th>\n",
              "      <td>Vertical Bar Chart</td>\n",
              "      <td>{\"chart_name\":\"Vertical Bar\",\"table\":\"Trade_Du...</td>\n",
              "      <td>Isin wise Quantity plot</td>\n",
              "    </tr>\n",
              "    <tr>\n",
              "      <th>2</th>\n",
              "      <td>Vertical Bar Chart</td>\n",
              "      <td>{\"chart_name\":\"Vertical Bar\",\"table\":\"Trade\",\"...</td>\n",
              "      <td>Isin wise Quantity plot using Trade table</td>\n",
              "    </tr>\n",
              "    <tr>\n",
              "      <th>3</th>\n",
              "      <td>Vertical Bar Chart</td>\n",
              "      <td>{\"chart_name\":\"Vertical Bar\",\"table\":\"Trade_Du...</td>\n",
              "      <td>Isin wise Quantity plot using Trade_Dummy table</td>\n",
              "    </tr>\n",
              "    <tr>\n",
              "      <th>4</th>\n",
              "      <td>Vertical Bar Chart</td>\n",
              "      <td>{\"chart_name\":\"Vertical Bar\",\"table\":\"Trade_Du...</td>\n",
              "      <td>Vertical Bar with Isin in x_axis and Quantity ...</td>\n",
              "    </tr>\n",
              "  </tbody>\n",
              "</table>\n",
              "</div>"
            ],
            "text/plain": [
              "           Chart name  ...                                        Description\n",
              "0  Vertical Bar Chart  ...                         Plot Isin against Quantity\n",
              "1  Vertical Bar Chart  ...                            Isin wise Quantity plot\n",
              "2  Vertical Bar Chart  ...          Isin wise Quantity plot using Trade table\n",
              "3  Vertical Bar Chart  ...    Isin wise Quantity plot using Trade_Dummy table\n",
              "4  Vertical Bar Chart  ...  Vertical Bar with Isin in x_axis and Quantity ...\n",
              "\n",
              "[5 rows x 3 columns]"
            ]
          },
          "metadata": {},
          "execution_count": 3
        }
      ]
    },
    {
      "cell_type": "code",
      "metadata": {
        "id": "69lXoVfcirGn"
      },
      "source": [
        "chart_name = []\n",
        "table = []\n",
        "x_axis = []\n",
        "y_axis = []\n",
        "operation = []\n",
        "filter_columns = []\n",
        "import json\n",
        "for item in data_df['Chart config']:\n",
        "  final = eval(item)\n",
        "  chart_name.append(final['chart_name'])\n",
        "  table.append(final['table'])\n",
        "  x_axis.append(final['x_axis'])\n",
        "  y_axis.append(final['y_axis'])\n",
        "  operation.append(final['operation'])\n",
        "  filter_columns.append(final['filter_columns'])"
      ],
      "execution_count": null,
      "outputs": []
    },
    {
      "cell_type": "code",
      "metadata": {
        "id": "DiPLb95mjzCa"
      },
      "source": [
        "data_df['chart_name'] = chart_name\n",
        "data_df['table'] = table\n",
        "data_df['x_axis'] = x_axis\n",
        "data_df['y_axis'] = y_axis\n",
        "data_df['operation'] = operation\n",
        "data_df['filter_columns'] = filter_columns"
      ],
      "execution_count": null,
      "outputs": []
    },
    {
      "cell_type": "code",
      "metadata": {
        "colab": {
          "base_uri": "https://localhost:8080/",
          "height": 206
        },
        "id": "Xc33r-y0n7DM",
        "outputId": "db2801ff-eef5-45f3-af6e-20056ba91a46"
      },
      "source": [
        "data_df.head()"
      ],
      "execution_count": null,
      "outputs": [
        {
          "output_type": "execute_result",
          "data": {
            "text/html": [
              "<div>\n",
              "<style scoped>\n",
              "    .dataframe tbody tr th:only-of-type {\n",
              "        vertical-align: middle;\n",
              "    }\n",
              "\n",
              "    .dataframe tbody tr th {\n",
              "        vertical-align: top;\n",
              "    }\n",
              "\n",
              "    .dataframe thead th {\n",
              "        text-align: right;\n",
              "    }\n",
              "</style>\n",
              "<table border=\"1\" class=\"dataframe\">\n",
              "  <thead>\n",
              "    <tr style=\"text-align: right;\">\n",
              "      <th></th>\n",
              "      <th>Chart name</th>\n",
              "      <th>Chart config</th>\n",
              "      <th>Description</th>\n",
              "      <th>chart_name</th>\n",
              "      <th>table</th>\n",
              "      <th>x_axis</th>\n",
              "      <th>y_axis</th>\n",
              "      <th>operation</th>\n",
              "      <th>filter_columns</th>\n",
              "    </tr>\n",
              "  </thead>\n",
              "  <tbody>\n",
              "    <tr>\n",
              "      <th>0</th>\n",
              "      <td>Vertical Bar Chart</td>\n",
              "      <td>{\"chart_name\":\"Vertical Bar\",\"table\":\"Trade_Du...</td>\n",
              "      <td>Plot Isin against Quantity</td>\n",
              "      <td>Vertical Bar</td>\n",
              "      <td>Trade_Dummy</td>\n",
              "      <td>Isin</td>\n",
              "      <td>Quantity</td>\n",
              "      <td>Sum</td>\n",
              "      <td>[Isin, Quantity]</td>\n",
              "    </tr>\n",
              "    <tr>\n",
              "      <th>1</th>\n",
              "      <td>Vertical Bar Chart</td>\n",
              "      <td>{\"chart_name\":\"Vertical Bar\",\"table\":\"Trade_Du...</td>\n",
              "      <td>Isin wise Quantity plot</td>\n",
              "      <td>Vertical Bar</td>\n",
              "      <td>Trade_Dummy</td>\n",
              "      <td>Isin</td>\n",
              "      <td>Quantity</td>\n",
              "      <td>Sum</td>\n",
              "      <td>[Isin, Quantity]</td>\n",
              "    </tr>\n",
              "    <tr>\n",
              "      <th>2</th>\n",
              "      <td>Vertical Bar Chart</td>\n",
              "      <td>{\"chart_name\":\"Vertical Bar\",\"table\":\"Trade\",\"...</td>\n",
              "      <td>Isin wise Quantity plot using Trade table</td>\n",
              "      <td>Vertical Bar</td>\n",
              "      <td>Trade</td>\n",
              "      <td>Isin</td>\n",
              "      <td>Quantity</td>\n",
              "      <td>Sum</td>\n",
              "      <td>[Isin, Quantity]</td>\n",
              "    </tr>\n",
              "    <tr>\n",
              "      <th>3</th>\n",
              "      <td>Vertical Bar Chart</td>\n",
              "      <td>{\"chart_name\":\"Vertical Bar\",\"table\":\"Trade_Du...</td>\n",
              "      <td>Isin wise Quantity plot using Trade_Dummy table</td>\n",
              "      <td>Vertical Bar</td>\n",
              "      <td>Trade_Dummy</td>\n",
              "      <td>Isin</td>\n",
              "      <td>Quantity</td>\n",
              "      <td>Sum</td>\n",
              "      <td>[Isin, Quantity]</td>\n",
              "    </tr>\n",
              "    <tr>\n",
              "      <th>4</th>\n",
              "      <td>Vertical Bar Chart</td>\n",
              "      <td>{\"chart_name\":\"Vertical Bar\",\"table\":\"Trade_Du...</td>\n",
              "      <td>Vertical Bar with Isin in x_axis and Quantity ...</td>\n",
              "      <td>Vertical Bar</td>\n",
              "      <td>Trade_Dummy</td>\n",
              "      <td>Isin</td>\n",
              "      <td>Quantity</td>\n",
              "      <td>Sum</td>\n",
              "      <td>[Isin, Quantity]</td>\n",
              "    </tr>\n",
              "  </tbody>\n",
              "</table>\n",
              "</div>"
            ],
            "text/plain": [
              "           Chart name  ...    filter_columns\n",
              "0  Vertical Bar Chart  ...  [Isin, Quantity]\n",
              "1  Vertical Bar Chart  ...  [Isin, Quantity]\n",
              "2  Vertical Bar Chart  ...  [Isin, Quantity]\n",
              "3  Vertical Bar Chart  ...  [Isin, Quantity]\n",
              "4  Vertical Bar Chart  ...  [Isin, Quantity]\n",
              "\n",
              "[5 rows x 9 columns]"
            ]
          },
          "metadata": {},
          "execution_count": 25
        }
      ]
    },
    {
      "cell_type": "code",
      "metadata": {
        "id": "g8T_s6S6rrrN"
      },
      "source": [
        ""
      ],
      "execution_count": null,
      "outputs": []
    }
  ]
}